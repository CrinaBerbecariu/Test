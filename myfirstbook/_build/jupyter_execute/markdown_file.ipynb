{
 "cells": [
  {
   "cell_type": "markdown",
   "id": "ae8d3dc7",
   "metadata": {},
   "source": [
    "# This to test Markdown\n",
    "\n",
    "uspendisse dignissim lorem ut consectetur vulputate. Vestibulum feugiat vitae lectus quis congue. In nunc metus, volutpat id velit eget, convallis iaculis arcu. Quisque quis tellus turpis. Ut vel risus vel nibh porttitor finibus. Vivamus sem leo, egestas sed sem eget, vulputate pretium nunc. Fusce at lacus ut tortor sollicitudin suscipit a id ante. Aliquam interdum, arcu eu ullamcorper dignissim, dui elit ullamcorper enim, sit amet placerat dolor eros at velit. Etiam nunc arcu, lobortis eget placerat sit amet, ornare et ipsum. Phasellus nisl massa, tempus sed dui eget, imperdiet convallis nibh. Ut accumsan est sapien, id sollicitudin quam sodales vitae. Nulla faucibus erat sed tortor tincidunt, in pretium leo sodales. Donec vel dignissim ipsum, nec bibendum est\n",
    "\n",
    "$$ \\pi = \\beta \\approx \\phi$$\n",
    "\n",
    "\n",
    "```{note}\n",
    "This is a note\n",
    "```\n",
    "\n",
    "\n",
    "Testing code"
   ]
  },
  {
   "cell_type": "code",
   "execution_count": 1,
   "id": "1905fc15",
   "metadata": {
    "tags": [
     "remove-cell"
    ]
   },
   "outputs": [
    {
     "name": "stdout",
     "output_type": "stream",
     "text": [
      "5\n"
     ]
    }
   ],
   "source": [
    "print(2+3)"
   ]
  }
 ],
 "metadata": {
  "jupytext": {
   "formats": "md:myst",
   "text_representation": {
    "extension": ".md",
    "format_name": "myst",
    "format_version": 0.13,
    "jupytext_version": "1.11.5"
   }
  },
  "kernelspec": {
   "display_name": "Python 3",
   "language": "python",
   "name": "python3"
  },
  "language_info": {
   "codemirror_mode": {
    "name": "ipython",
    "version": 3
   },
   "file_extension": ".py",
   "mimetype": "text/x-python",
   "name": "python",
   "nbconvert_exporter": "python",
   "pygments_lexer": "ipython3",
   "version": "3.10.13"
  },
  "source_map": [
   13,
   30
  ]
 },
 "nbformat": 4,
 "nbformat_minor": 5
}